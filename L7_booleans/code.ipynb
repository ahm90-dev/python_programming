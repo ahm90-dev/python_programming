{
 "cells": [
  {
   "cell_type": "code",
   "execution_count": null,
   "id": "ee37df9c-737c-4665-84a8-29132594ff12",
   "metadata": {},
   "outputs": [],
   "source": [
    "# comparisons\n",
    "\n",
    "print(5 == 5 ) # True\n",
    "print(5 > 5) # False\n",
    "print(10 != 10) # False\n",
    "\n",
    "\n",
    "# comparisons: ==, != , >, <, >=, <=\n",
    "\n",
    "# `is`\n",
    "# python also has the `is` keyword. \n",
    "\n",
    "friends = [\"Ro"
   ]
  }
 ],
 "metadata": {
  "kernelspec": {
   "display_name": "Python [conda env:base] *",
   "language": "python",
   "name": "conda-base-py"
  },
  "language_info": {
   "codemirror_mode": {
    "name": "ipython",
    "version": 3
   },
   "file_extension": ".py",
   "mimetype": "text/x-python",
   "name": "python",
   "nbconvert_exporter": "python",
   "pygments_lexer": "ipython3",
   "version": "3.12.7"
  }
 },
 "nbformat": 4,
 "nbformat_minor": 5
}
