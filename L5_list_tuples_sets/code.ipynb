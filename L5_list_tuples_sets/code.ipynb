{
 "cells": [
  {
   "cell_type": "code",
   "execution_count": null,
   "id": "19b50086-1aec-46ff-af4b-2d9d1f0622bd",
   "metadata": {},
   "outputs": [],
   "source": [
    "my_list = [\"apple\", \"banana\", \"coconut\"]\n",
    "my_tuples = (\"apple\", \"banana\", \"coconut\")\n",
    "my_sets = {\"apple\", \"banana\", \"coconut\"}\n",
    "\n",
    "# access individual items in list and tuples using the index\n",
    "print(my_list[0])\n",
    "print(my_tuples[0])\n",
    "#print(my_sets[0] This gives and error because sets are unordered because they are implemented using hash tables, which do not store elements in a specific order.\n",
    "\n",
    "\n",
    "#modify individual items in lists using the index.\n",
    "my_list[0] = \"orange\"\n",
    "#my_tuples[0] = orange This gives and error because tuples are \"immutable\"\n",
    "\n",
    "print(my_list)\n",
    "print(my_tuples)\n",
    "\n",
    "\n",
    "# add item to a list by using `.append`\n",
    "my_list.append(\"watermelon\")\n",
    "print(my_list)\n",
    "# Tuples cannot be appended because they are immutable.\n",
    "\n",
    "# add item to a sets by using `.add`\n",
    "\n",
    "my_sets.add(\"orange\")\n",
    "print(my_sets)\n",
    "\n",
    "# sets"
   ]
  }
 ],
 "metadata": {
  "kernelspec": {
   "display_name": "Python [conda env:base] *",
   "language": "python",
   "name": "conda-base-py"
  },
  "language_info": {
   "codemirror_mode": {
    "name": "ipython",
    "version": 3
   },
   "file_extension": ".py",
   "mimetype": "text/x-python",
   "name": "python",
   "nbconvert_exporter": "python",
   "pygments_lexer": "ipython3",
   "version": "3.12.7"
  }
 },
 "nbformat": 4,
 "nbformat_minor": 5
}
