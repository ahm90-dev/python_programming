{
 "cells": [
  {
   "cell_type": "code",
   "execution_count": 5,
   "id": "1d56ae56-8370-4916-9215-da5ffbf8b2c6",
   "metadata": {},
   "outputs": [
    {
     "name": "stdout",
     "output_type": "stream",
     "text": [
      "{'Anna'}\n",
      "set()\n"
     ]
    }
   ],
   "source": [
    "# Difference between two sets\n",
    "\n",
    "friends = {\"Bob\", \"Anna\", \"Levi\"}\n",
    "abroad = {\"Bob\", \"Levi\"}\n",
    "\n",
    "\n",
    "\n",
    "# local_friends\n",
    "# If there are 3 friends, and 2 are abroad, that means that 1 friend is local\n",
    "# We can easily calculate which names are in `friends` but not in `abroad` by using `.difference`\n",
    "\n",
    "\n",
    "local = friends.difference(abroad)\n",
    "print(local)\n",
    "\n",
    "print(abroad.difference(friends))# This will return an empty set\n",
    "\n"
   ]
  },
  {
   "cell_type": "code",
   "execution_count": 7,
   "id": "e47686f0-bf00-4f7e-bceb-2d1ddde16383",
   "metadata": {},
   "outputs": [
    {
     "name": "stdout",
     "output_type": "stream",
     "text": [
      "{'Bob', 'Roy', 'Anna'}\n"
     ]
    }
   ],
   "source": [
    "# Union of two sets\n",
    "\n",
    "local = {\"Roy\"}\n",
    "abroad = {\"Bob\", \"Anna\"}\n",
    "\n",
    "# Friends = ...\n",
    "# If we have 1 local friend and 2 abroad, we could calculate the total friends by using `.union`\n",
    "\n",
    "friends = local.union(abroad)\n",
    "print(friends)"
   ]
  },
  {
   "cell_type": "code",
   "execution_count": null,
   "id": "4cab7d13-c69a-4d53-b649-dc7e30f421f2",
   "metadata": {},
   "outputs": [],
   "source": [
    "# Intersection of two sets\n",
    "\n",
    "art = {\"Bob\", \"Anna\", \"Roy\", \"Cj\"}\n",
    "science = {\"Bob\", \"Anna\", \"Eve\", \"Jacob\"}\n",
    "\n",
    "\n",
    "# given these two sets, we can calculate those who do both art and science by using `.intersection`\n"
   ]
  }
 ],
 "metadata": {
  "kernelspec": {
   "display_name": "Python [conda env:base] *",
   "language": "python",
   "name": "conda-base-py"
  },
  "language_info": {
   "codemirror_mode": {
    "name": "ipython",
    "version": 3
   },
   "file_extension": ".py",
   "mimetype": "text/x-python",
   "name": "python",
   "nbconvert_exporter": "python",
   "pygments_lexer": "ipython3",
   "version": "3.12.7"
  }
 },
 "nbformat": 4,
 "nbformat_minor": 5
}
