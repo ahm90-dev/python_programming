{
 "cells": [
  {
   "cell_type": "code",
   "execution_count": 42,
   "id": "49e73d50-1845-4283-8ade-06a665ce36dc",
   "metadata": {},
   "outputs": [
    {
     "name": "stdout",
     "output_type": "stream",
     "text": [
      "5\n",
      "11\n"
     ]
    }
   ],
   "source": [
    " x , y = 5 , 11\n",
    "\n",
    "print(x)\n",
    "print(y)"
   ]
  },
  {
   "cell_type": "code",
   "execution_count": 44,
   "id": "6ec707d8-2d2d-4467-b546-7cf1a7965da8",
   "metadata": {},
   "outputs": [
    {
     "name": "stdout",
     "output_type": "stream",
     "text": [
      "Rolf: 96\n",
      "Bob: 80\n",
      "Anne: 100\n"
     ]
    }
   ],
   "source": [
    "student_attendance = {\"Rolf\": 96, \"Bob\": 80, \"Anne\": 100}\n",
    "\n",
    "for student, attendance in student_attendance.items():\n",
    "    print(f\"{student}: {attendance}\")\n"
   ]
  },
  {
   "cell_type": "code",
   "execution_count": 46,
   "id": "55cb9a69-e03e-405b-bbde-4b4c41c2155a",
   "metadata": {},
   "outputs": [
    {
     "name": "stdout",
     "output_type": "stream",
     "text": [
      "Name: Bob, Age: 42, Profession: Mechanic\n",
      "Name: James, Age: 24, Profession: Artist\n",
      "Name: Harry, Age: 32, Profession: Lecturer\n"
     ]
    }
   ],
   "source": [
    "# another example:\n",
    "\n",
    "people = [(\"Bob\", 42, \"Mechanic\"), (\"James\", 24, \"Artist\"), (\"Harry\", 32, \"Lecturer\")]\n",
    "\n",
    "for name, age, profession in people:\n",
    "    print(f\"Name: {name}, Age: {age}, Profession: {profession}\")"
   ]
  },
  {
   "cell_type": "code",
   "execution_count": 48,
   "id": "eba11bcb-2d78-4b26-b7f1-d72271cfd813",
   "metadata": {},
   "outputs": [
    {
     "name": "stdout",
     "output_type": "stream",
     "text": [
      "Name: Bob, Age: 42, Profession: Mechanic\n",
      "Name: James, Age: 24, Profession: Artist\n",
      "Name: Harry, Age: 32, Profession: Lecturer\n"
     ]
    }
   ],
   "source": [
    "# better approach\n",
    "\n",
    "people = [(\"Bob\", 42, \"Mechanic\"), (\"James\", 24, \"Artist\"), (\"Harry\", 32, \"Lecturer\")]\n",
    "\n",
    "for person in people:\n",
    "    print(f\"Name: {person[0]}, Age: {person[1]}, Profession: {person[2]}\")\n"
   ]
  },
  {
   "cell_type": "code",
   "execution_count": 50,
   "id": "6f1bb7df-e00a-4cf3-a476-9950ce20ac49",
   "metadata": {},
   "outputs": [
    {
     "name": "stdout",
     "output_type": "stream",
     "text": [
      "Bob Mechanic\n"
     ]
    }
   ],
   "source": [
    "# ignoring values with underscores\n",
    "\n",
    "person = (\"Bob\", 42, \"Mechanic\")\n",
    "name, _, profession = person\n",
    "\n",
    "print(name, profession)  # Bob Mechanic"
   ]
  },
  {
   "cell_type": "code",
   "execution_count": null,
   "id": "8d0d0213-9734-4fed-a070-f9d6f64d666b",
   "metadata": {},
   "outputs": [],
   "source": []
  }
 ],
 "metadata": {
  "kernelspec": {
   "display_name": "Python [conda env:base] *",
   "language": "python",
   "name": "conda-base-py"
  },
  "language_info": {
   "codemirror_mode": {
    "name": "ipython",
    "version": 3
   },
   "file_extension": ".py",
   "mimetype": "text/x-python",
   "name": "python",
   "nbconvert_exporter": "python",
   "pygments_lexer": "ipython3",
   "version": "3.12.7"
  }
 },
 "nbformat": 4,
 "nbformat_minor": 5
}
