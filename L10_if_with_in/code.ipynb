{
 "cells": [
  {
   "cell_type": "code",
   "execution_count": 23,
   "id": "c894ccca-3caf-4df3-892b-06c983b7b087",
   "metadata": {},
   "outputs": [
    {
     "name": "stdin",
     "output_type": "stream",
     "text": [
      "Enter the moview title you've watched recently:  titanic\n"
     ]
    },
    {
     "name": "stdout",
     "output_type": "stream",
     "text": [
      "I've watched titanic too!\n"
     ]
    }
   ],
   "source": [
    "movies_watched = {\"titanic\", \"the matrix\", \"armageddon\"}\n",
    "user_watched = input(\"Enter the moview title you've watched recently: \")\n",
    "\n",
    "if user_watched in movies_watched:\n",
    "    print(f\"I've watched {user_watched} too!\")\n",
    "else:\n",
    "    print(f\"I haven't watched that yet.\")\n"
   ]
  },
  {
   "cell_type": "code",
   "execution_count": 25,
   "id": "a0e3b962-8559-435f-b4a3-fae362129c99",
   "metadata": {},
   "outputs": [
    {
     "name": "stdin",
     "output_type": "stream",
     "text": [
      "Enter 'y' if you would like to play:  y\n",
      "Guess our number:  6\n"
     ]
    },
    {
     "name": "stdout",
     "output_type": "stream",
     "text": [
      "Sorry, it's wrong!\n"
     ]
    }
   ],
   "source": [
    "number = 8\n",
    "user_input = input(\"Enter 'y' if you would like to play: \")\n",
    "\n",
    "if user_input in (\"y\", \"Y\"):\n",
    "    user_number = int(input(\"Guess our number: \"))\n",
    "    if user_number == number:\n",
    "        print(\"You guessed correcly!\")\n",
    "    elif number - user_number in (1, -1):\n",
    "        print(\"You were off by 1.\")\n",
    "    else:\n",
    "        print(\"Sorry, it's wrong!\")\n"
   ]
  },
  {
   "cell_type": "code",
   "execution_count": null,
   "id": "612a17a4-5b3b-4023-b3ec-e5a1bca5f9dd",
   "metadata": {},
   "outputs": [],
   "source": [
    "# We could also o a transformation instead of checking multiple options.\n",
    "\n",
    "number = 8\n",
    "user_input = input(\"Enter 'y' of you would like to play: \")\n",
    "\n",
    "if user_input.lower() == \"y\":\n",
    "    user_number = int(input(\"Guess our number: \"))\n",
    "    if user_number == number:\n",
    "        print(\"you guessed correctly!\")\n",
    "    else abs(number - user_number) == 1:\n",
    "        print(\"You were off by 1.\")\n",
    "else:"
   ]
  }
 ],
 "metadata": {
  "kernelspec": {
   "display_name": "Python [conda env:base] *",
   "language": "python",
   "name": "conda-base-py"
  },
  "language_info": {
   "codemirror_mode": {
    "name": "ipython",
    "version": 3
   },
   "file_extension": ".py",
   "mimetype": "text/x-python",
   "name": "python",
   "nbconvert_exporter": "python",
   "pygments_lexer": "ipython3",
   "version": "3.12.7"
  }
 },
 "nbformat": 4,
 "nbformat_minor": 5
}
