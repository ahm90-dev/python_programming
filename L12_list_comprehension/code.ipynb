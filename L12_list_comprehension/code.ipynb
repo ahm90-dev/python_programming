{
 "cells": [
  {
   "cell_type": "code",
   "execution_count": 20,
   "id": "c2c9b44a-a113-4321-85c4-06feb2d01de3",
   "metadata": {},
   "outputs": [
    {
     "name": "stdout",
     "output_type": "stream",
     "text": [
      "[2, 6, 10]\n"
     ]
    }
   ],
   "source": [
    "# list comprehension\n",
    "# lsit comprehension offers a shorter syntax when you want to create a new list based on the values of an existing list\n",
    "\n",
    "\n",
    "numbers = [1, 3, 5]\n",
    "squares = [ x * 2 for x in numbers]\n",
    "\n",
    "print(squares)"
   ]
  },
  {
   "cell_type": "code",
   "execution_count": 24,
   "id": "834321dd-b786-4fe7-b0c9-60ab2792b94b",
   "metadata": {},
   "outputs": [
    {
     "name": "stdout",
     "output_type": "stream",
     "text": [
      "['anton', 'anna', 'aileen']\n"
     ]
    }
   ],
   "source": [
    "# dealing with strings\n",
    "\n",
    "names = [\"anton\", \"anna\", \"sam\", \"butch\", \"regine\", \"aileen\"]\n",
    "start_a = []\n",
    "\n",
    "for name in names:\n",
    "    if name.startswith(\"a\"):\n",
    "        start_a.append(name)\n",
    "\n",
    "print(start_a)"
   ]
  },
  {
   "cell_type": "code",
   "execution_count": null,
   "id": "40907963-394b-4343-9c85-96c5d7722309",
   "metadata": {},
   "outputs": [],
   "source": [
    "# using list comprehension\n",
    "\n",
    "names = [\"anton\", \"anna\", \"sam\", \"butch\", \"regine\", \"aileen\"]\n",
    "starts_a = [name for name in names if name.startswith(\"a\")]\n",
    "\n",
    "print(st\n"
   ]
  }
 ],
 "metadata": {
  "kernelspec": {
   "display_name": "Python [conda env:base] *",
   "language": "python",
   "name": "conda-base-py"
  },
  "language_info": {
   "codemirror_mode": {
    "name": "ipython",
    "version": 3
   },
   "file_extension": ".py",
   "mimetype": "text/x-python",
   "name": "python",
   "nbconvert_exporter": "python",
   "pygments_lexer": "ipython3",
   "version": "3.12.7"
  }
 },
 "nbformat": 4,
 "nbformat_minor": 5
}
