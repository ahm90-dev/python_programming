{
 "cells": [
  {
   "cell_type": "code",
   "execution_count": null,
   "id": "38786a34-e96f-441c-8ac4-0c2f6071c999",
   "metadata": {},
   "outputs": [],
   "source": [
    "name = input(\"Enter your name: \")\n",
    "print(name)\n",
    "\n",
    "\n",
    "# mathematics on user input\n",
    "\n",
    "size = input(\"What is the measurement of your house (in square feet):\")\n",
    "square_feet = int(size)\n",
    "square_metres = square_feet / 10.8 # conversion of square feet o square metres\n",
    "print("
   ]
  }
 ],
 "metadata": {
  "kernelspec": {
   "display_name": "Python [conda env:base] *",
   "language": "python",
   "name": "conda-base-py"
  },
  "language_info": {
   "codemirror_mode": {
    "name": "ipython",
    "version": 3
   },
   "file_extension": ".py",
   "mimetype": "text/x-python",
   "name": "python",
   "nbconvert_exporter": "python",
   "pygments_lexer": "ipython3",
   "version": "3.12.7"
  }
 },
 "nbformat": 4,
 "nbformat_minor": 5
}
