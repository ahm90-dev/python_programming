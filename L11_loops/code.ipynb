{
 "cells": [
  {
   "cell_type": "code",
   "execution_count": 3,
   "id": "712255d4-e3d9-47a9-88c3-c56f460614ff",
   "metadata": {},
   "outputs": [
    {
     "name": "stdin",
     "output_type": "stream",
     "text": [
      "would you like to play? y/n  y\n",
      "Guess the number:  7\n"
     ]
    },
    {
     "name": "stdout",
     "output_type": "stream",
     "text": [
      "you were off by 1.\n"
     ]
    },
    {
     "name": "stdin",
     "output_type": "stream",
     "text": [
      "would you like to play? y/n  y\n",
      "Guess the number:  8\n"
     ]
    },
    {
     "name": "stdout",
     "output_type": "stream",
     "text": [
      "You guessed correctly!\n"
     ]
    },
    {
     "name": "stdin",
     "output_type": "stream",
     "text": [
      "would you like to play? y/n  n\n"
     ]
    }
   ],
   "source": [
    "# While loop\n",
    "\n",
    "\n",
    "number = 8\n",
    "play = input(\"would you like to play? y/n \")\n",
    "\n",
    "while play != \"n\":\n",
    "    user_number = int(input(\"Guess the number: \"))\n",
    "    if user_number == number:\n",
    "        print(\"You guessed correctly!\")\n",
    "    elif abs(number - user_number) == 1:\n",
    "        print(\"you were off by 1.\")\n",
    "    else:\n",
    "        print(\"Sorry, it's wrong!\")\n",
    "\n",
    "    play = input(\"would you like to play? y/n \")\n"
   ]
  },
  {
   "cell_type": "code",
   "execution_count": 8,
   "id": "c0c29a86-2512-41ff-abcf-26dd059ca03b",
   "metadata": {},
   "outputs": [
    {
     "name": "stdin",
     "output_type": "stream",
     "text": [
      "would you like to play? y/n y\n",
      "Guess the number:  7\n"
     ]
    },
    {
     "name": "stdout",
     "output_type": "stream",
     "text": [
      "you were off by 1.\n"
     ]
    },
    {
     "name": "stdin",
     "output_type": "stream",
     "text": [
      "would you like to play? y/n y\n",
      "Guess the number:  8\n"
     ]
    },
    {
     "name": "stdout",
     "output_type": "stream",
     "text": [
      "You guessed correctly!\n"
     ]
    },
    {
     "name": "stdin",
     "output_type": "stream",
     "text": [
      "would you like to play? y/n n\n"
     ]
    }
   ],
   "source": [
    "# the `break` keyword\n",
    "\n",
    "\n",
    "number = 8\n",
    "while True:\n",
    "    play = input(\"would you like to play? y/n\")\n",
    "\n",
    "    if play == \"n\":\n",
    "        break  # exit the loop\n",
    "    \n",
    "    user_number = int(input(\"Guess the number: \"))\n",
    "    if user_number == number:\n",
    "        print(\"You guessed correctly!\")\n",
    "    elif abs(number - user_number) == 1:\n",
    "        print(\"you were off by 1.\")\n",
    "    else:\n",
    "        print(\"Sorry, it's wrong!\")\n",
    "\n",
    "\n",
    "\n",
    "    "
   ]
  },
  {
   "cell_type": "code",
   "execution_count": 12,
   "id": "b844d5d7-a2b8-47e5-b70e-b860003600df",
   "metadata": {},
   "outputs": [
    {
     "name": "stdout",
     "output_type": "stream",
     "text": [
      "apple is my favorite fruit\n",
      "banana is my favorite fruit\n",
      "coconut is my favorite fruit\n",
      "durian is my favorite fruit\n"
     ]
    }
   ],
   "source": [
    "# for loop\n",
    "\n",
    "\n",
    "fruits = [\"apple\", \"banana\", \"coconut\", \"durian\"]\n",
    "for fruit in fruits:\n",
    "    print(f\"{fruit} is my favorite fruit\")"
   ]
  },
  {
   "cell_type": "code",
   "execution_count": 14,
   "id": "1eefda4a-f5bc-4c9e-940a-f5b19a3b2e6f",
   "metadata": {},
   "outputs": [
    {
     "name": "stdout",
     "output_type": "stream",
     "text": [
      "88.0\n"
     ]
    }
   ],
   "source": [
    "# for loop 2 \n",
    "\n",
    "grades = [75, 67, 98, 100, 100]\n",
    "total = 0\n",
    "num_grades = len(grades) # a function that returns the number of items in an object.\n",
    "\n",
    "for grade in grades:\n",
    "    total += grade\n",
    "\n",
    "print(total / num_grades)"
   ]
  },
  {
   "cell_type": "code",
   "execution_count": 16,
   "id": "b343c7b3-33b2-4c4d-9c32-8e5314c1f194",
   "metadata": {},
   "outputs": [
    {
     "name": "stdout",
     "output_type": "stream",
     "text": [
      "88.0\n"
     ]
    }
   ],
   "source": [
    "# using `sum()` function\n",
    "\n",
    "grades = [75, 67, 98, 100, 100]\n",
    "total = sum(grades) # a function returns the sum of all items in an iterable\n",
    "num_grades = len(grades) # a function that returns the number of items in an object.\n",
    "\n",
    "print(total / num_grades)"
   ]
  },
  {
   "cell_type": "code",
   "execution_count": null,
   "id": "c2c9b44a-a113-4321-85c4-06feb2d01de3",
   "metadata": {},
   "outputs": [],
   "source": []
  }
 ],
 "metadata": {
  "kernelspec": {
   "display_name": "Python [conda env:base] *",
   "language": "python",
   "name": "conda-base-py"
  },
  "language_info": {
   "codemirror_mode": {
    "name": "ipython",
    "version": 3
   },
   "file_extension": ".py",
   "mimetype": "text/x-python",
   "name": "python",
   "nbconvert_exporter": "python",
   "pygments_lexer": "ipython3",
   "version": "3.12.7"
  }
 },
 "nbformat": 4,
 "nbformat_minor": 5
}
