{
 "cells": [
  {
   "cell_type": "code",
   "execution_count": null,
   "id": "f8ba1237-1da5-40a9-8368-72054588049a",
   "metadata": {},
   "outputs": [],
   "source": [
    "user_age = input(\"Enter your age: \")\n",
    "age = int(user_age)\n",
    "\n",
    "mp"
   ]
  }
 ],
 "metadata": {
  "kernelspec": {
   "display_name": "Python [conda env:base] *",
   "language": "python",
   "name": "conda-base-py"
  },
  "language_info": {
   "codemirror_mode": {
    "name": "ipython",
    "version": 3
   },
   "file_extension": ".py",
   "mimetype": "text/x-python",
   "name": "python",
   "nbconvert_exporter": "python",
   "pygments_lexer": "ipython3",
   "version": "3.12.7"
  }
 },
 "nbformat": 4,
 "nbformat_minor": 5
}
