{
 "cells": [
  {
   "cell_type": "code",
   "execution_count": null,
   "id": "e37f969d-307c-4d44-967d-5553327fc76d",
   "metadata": {},
   "outputs": [],
   "source": [
    "day_of_week = input(\"What day of the week is it today?\")\n",
    "\n",
    "if day_of_week == \"Monday\":\n",
    "    print(\"Have a great start to your week!\")\n",
    "elif day_of_week == \"Friday\":\n",
    "    print(\"It's ok to finish a bit early!\")\n",
    "else:\n",
    "    print(\"Full speed ahead!\")\n",
    "\n",
    "\n",
    "\n",
    "# Problem is user not entering what we expect\n",
    "\n",
    "day_of_week = input(\"What day of the week is it today? \").lower()\n",
    "\n",
    "if day_of_week == \"monday\":\n",
    "    print(\"Have a great start to your week!\")\n",
    "elif day_of_week == \"friday\":\n",
    "    print(\"It's ok to finish a bit early!\")\n",
    "else:\n",
    "    print(\"Full speed ahead!\")\n"
   ]
  }
 ],
 "metadata": {
  "kernelspec": {
   "display_name": "Python [conda env:base] *",
   "language": "python",
   "name": "conda-base-py"
  },
  "language_info": {
   "codemirror_mode": {
    "name": "ipython",
    "version": 3
   },
   "file_extension": ".py",
   "mimetype": "text/x-python",
   "name": "python",
   "nbconvert_exporter": "python",
   "pygments_lexer": "ipython3",
   "version": "3.12.7"
  }
 },
 "nbformat": 4,
 "nbformat_minor": 5
}
