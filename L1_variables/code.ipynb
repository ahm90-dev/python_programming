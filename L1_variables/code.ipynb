{
 "cells": [
  {
   "cell_type": "markdown",
   "id": "c9ed64af-e5fd-4d7e-a55e-01d2049855da",
   "metadata": {},
   "source": [
    "# This is my python refresher notes"
   ]
  },
  {
   "cell_type": "markdown",
   "id": "057aa05a-ab41-450b-b782-d6b40b5dfcff",
   "metadata": {},
   "source": [
    "## Variables"
   ]
  },
  {
   "cell_type": "code",
   "execution_count": 25,
   "id": "9d797c40-1d7d-4a3a-877a-96ad3c8aff0d",
   "metadata": {},
   "outputs": [
    {
     "name": "stdout",
     "output_type": "stream",
     "text": [
      "7.992000000000001\n"
     ]
    }
   ],
   "source": [
    "# numbers and floats\n",
    "\n",
    "x = 15\n",
    "price = 9.99\n",
    "\n",
    "discount = 0.2\n",
    "\n",
    "result = price * (1 - discount)\n",
    "\n",
    "print(result)"
   ]
  },
  {
   "cell_type": "code",
   "execution_count": 27,
   "id": "a384f7db-8937-4f75-8e74-18efc64aa811",
   "metadata": {},
   "outputs": [
    {
     "name": "stdout",
     "output_type": "stream",
     "text": [
      "anton\n",
      "antonanton\n"
     ]
    }
   ],
   "source": [
    "# --strings--\n",
    "\n",
    "name = \"anton\"\n",
    "name = \"anton\"\n",
    "\n",
    "print(name)\n",
    "print(name * 2)\n"
   ]
  },
  {
   "cell_type": "code",
   "execution_count": 29,
   "id": "2688bb9d-c851-49d1-9f23-b424962dfc81",
   "metadata": {},
   "outputs": [
    {
     "name": "stdout",
     "output_type": "stream",
     "text": [
      "25\n",
      "25\n",
      "25\n",
      "17\n"
     ]
    }
   ],
   "source": [
    "# --Changing variabes--\n",
    "# variables are names for values\n",
    "\n",
    "a = 25\n",
    "b = a\n",
    "\n",
    "# Here weve given the value 25 the variable 'a' and 'b'\n",
    "print(a)\n",
    "print(b)\n",
    "\n",
    "# Here we reassigned a new value to variable 'b'\n",
    "b = 17\n",
    "\n",
    "# The new value of 'b' is '17 and 'a' is still '25'\n",
    "print(a)\n",
    "print(b)\n"
   ]
  },
  {
   "cell_type": "code",
   "execution_count": null,
   "id": "bf87fe64-0796-412e-abc0-f5b00ba0e755",
   "metadata": {},
   "outputs": [],
   "source": []
  },
  {
   "cell_type": "code",
   "execution_count": null,
   "id": "ce54d63c-7ab6-4aba-95c9-e8d9cf76ff3e",
   "metadata": {},
   "outputs": [],
   "source": []
  }
 ],
 "metadata": {
  "kernelspec": {
   "display_name": "Python [conda env:base] *",
   "language": "python",
   "name": "conda-base-py"
  },
  "language_info": {
   "codemirror_mode": {
    "name": "ipython",
    "version": 3
   },
   "file_extension": ".py",
   "mimetype": "text/x-python",
   "name": "python",
   "nbconvert_exporter": "python",
   "pygments_lexer": "ipython3",
   "version": "3.12.7"
  }
 },
 "nbformat": 4,
 "nbformat_minor": 5
}
