{
 "cells": [
  {
   "cell_type": "code",
   "execution_count": 19,
   "id": "aa9a5f8d-e547-43ba-8657-1b4cc8d05da3",
   "metadata": {},
   "outputs": [
    {
     "name": "stdout",
     "output_type": "stream",
     "text": [
      "True\n"
     ]
    }
   ],
   "source": [
    "friends = [\"roy\", \"bob\", \"anna\"]\n",
    "print(\"anna\" in friends)"
   ]
  },
  {
   "cell_type": "code",
   "execution_count": null,
   "id": "7d2bafb2-008f-4a2d-9a79-28460fd5745d",
   "metadata": {},
   "outputs": [],
   "source": [
    "movies_watched = {\"the matrix\", \"green book\""
   ]
  }
 ],
 "metadata": {
  "kernelspec": {
   "display_name": "Python [conda env:base] *",
   "language": "python",
   "name": "conda-base-py"
  },
  "language_info": {
   "codemirror_mode": {
    "name": "ipython",
    "version": 3
   },
   "file_extension": ".py",
   "mimetype": "text/x-python",
   "name": "python",
   "nbconvert_exporter": "python",
   "pygments_lexer": "ipython3",
   "version": "3.12.7"
  }
 },
 "nbformat": 4,
 "nbformat_minor": 5
}
