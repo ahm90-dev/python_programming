{
 "cells": [
  {
   "cell_type": "code",
   "execution_count": 1,
   "id": "25f332be-c092-4a65-a9b0-38e468383651",
   "metadata": {},
   "outputs": [
    {
     "name": "stdout",
     "output_type": "stream",
     "text": [
      "Hello, regine\n"
     ]
    }
   ],
   "source": [
    "name = \"regine\"\n",
    "greetings = \"Hello, regine\"\n",
    "\n",
    "print(greetings)"
   ]
  },
  {
   "cell_type": "code",
   "execution_count": 3,
   "id": "9a0d9cfc-8947-4fea-8e61-1177dac2058a",
   "metadata": {},
   "outputs": [
    {
     "name": "stdout",
     "output_type": "stream",
     "text": [
      "anton\n",
      "Hello, anton\n"
     ]
    }
   ],
   "source": [
    "name = \"anton\"\n",
    "print(name)\n",
    "\n",
    "greetings = f\"Hello, {name}\"\n",
    "print(greetings)"
   ]
  },
  {
   "cell_type": "code",
   "execution_count": 7,
   "id": "ecea477c-3d8f-49bc-8eba-93a871baff28",
   "metadata": {},
   "outputs": [
    {
     "name": "stdout",
     "output_type": "stream",
     "text": [
      "Hello, anton\n"
     ]
    }
   ],
   "source": [
    "# using .format()\n",
    "# We can define template strings and then replace parts of it with another values,\n",
    "# instead of doing it directly in the string.\n",
    "\n",
    "greeting = \"Hello, {}\"\n",
    "with_name = greeting.format(\"anton\")\n",
    "print(with_name)"
   ]
  },
  {
   "cell_type": "code",
   "execution_count": 9,
   "id": "130a0994-f474-4273-86ab-626a162e41d0",
   "metadata": {},
   "outputs": [
    {
     "name": "stdout",
     "output_type": "stream",
     "text": [
      "Hello my is {}. Today is {}\n"
     ]
    }
   ],
   "source": [
    "phrase = \"Hello my is {}. Today is {}\"\n",
    "formatted = phrase.format(\"anton\", \"Sunday\")\n",
    "print(phrase)"
   ]
  },
  {
   "cell_type": "code",
   "execution_count": null,
   "id": "6371fe52-c69b-4b4f-b0cc-acf6b61f4ade",
   "metadata": {},
   "outputs": [],
   "source": []
  }
 ],
 "metadata": {
  "kernelspec": {
   "display_name": "Python [conda env:base] *",
   "language": "python",
   "name": "conda-base-py"
  },
  "language_info": {
   "codemirror_mode": {
    "name": "ipython",
    "version": 3
   },
   "file_extension": ".py",
   "mimetype": "text/x-python",
   "name": "python",
   "nbconvert_exporter": "python",
   "pygments_lexer": "ipython3",
   "version": "3.12.7"
  }
 },
 "nbformat": 4,
 "nbformat_minor": 5
}
