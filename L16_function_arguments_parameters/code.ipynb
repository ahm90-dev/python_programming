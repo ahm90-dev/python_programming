{
 "cells": [
  {
   "cell_type": "markdown",
   "id": "e68973f1-f961-49c3-9f13-bf02efba828f",
   "metadata": {},
   "source": [
    "### functions and argument parameters"
   ]
  },
  {
   "cell_type": "code",
   "execution_count": 2,
   "id": "719a4844-2fb2-480c-ba41-b48967d31fcc",
   "metadata": {},
   "outputs": [
    {
     "name": "stdout",
     "output_type": "stream",
     "text": [
      "5\n"
     ]
    }
   ],
   "source": [
    "def add(x,y):\n",
    "    result = x + y\n",
    "    print(result)\n",
    "\n",
    "\n",
    "add(2,3) # 5"
   ]
  },
  {
   "cell_type": "code",
   "execution_count": 4,
   "id": "3fd579c1-daa1-416b-8258-ce776f8b46ed",
   "metadata": {},
   "outputs": [
    {
     "ename": "TypeError",
     "evalue": "say_hello() takes 0 positional arguments but 1 was given",
     "output_type": "error",
     "traceback": [
      "\u001b[1;31m---------------------------------------------------------------------------\u001b[0m",
      "\u001b[1;31mTypeError\u001b[0m                                 Traceback (most recent call last)",
      "Cell \u001b[1;32mIn[4], line 7\u001b[0m\n\u001b[0;32m      3\u001b[0m \u001b[38;5;28;01mdef\u001b[39;00m \u001b[38;5;21msay_hello\u001b[39m():\n\u001b[0;32m      4\u001b[0m     \u001b[38;5;28mprint\u001b[39m(\u001b[38;5;124m\"\u001b[39m\u001b[38;5;124mhello\u001b[39m\u001b[38;5;124m\"\u001b[39m)\n\u001b[1;32m----> 7\u001b[0m say_hello(\u001b[38;5;124m\"\u001b[39m\u001b[38;5;124mbob\u001b[39m\u001b[38;5;124m\"\u001b[39m)\n",
      "\u001b[1;31mTypeError\u001b[0m: say_hello() takes 0 positional arguments but 1 was given"
     ]
    }
   ],
   "source": [
    "# if a function doesnt have parameter, you cant give it arguments\n",
    "\n",
    "def say_hello():\n",
    "    print(\"hello\")\n",
    "\n",
    "\n",
    "say_hello(\"bob\") # throws and error"
   ]
  },
  {
   "cell_type": "code",
   "execution_count": 10,
   "id": "d4ca270f-1e50-42c3-ac65-2cd8b6a81cd4",
   "metadata": {},
   "outputs": [
    {
     "name": "stdout",
     "output_type": "stream",
     "text": [
      "Hello, anton!\n"
     ]
    }
   ],
   "source": [
    "# But if you add a parameter, then you must give it an argument\n",
    "\n",
    "def say_hello(name):\n",
    "    print(f\"Hello, {name}!\")\n",
    "\n",
    "\n",
    "\n",
    "say_hello(\"anton\")"
   ]
  },
  {
   "cell_type": "code",
   "execution_count": 12,
   "id": "df5c4990-bf1e-4379-a1f3-b364d5214356",
   "metadata": {},
   "outputs": [
    {
     "name": "stdout",
     "output_type": "stream",
     "text": [
      "hello, anna!\n"
     ]
    }
   ],
   "source": [
    "# key arguments \n",
    "# to make things clear, in python you can give keyword arguments\n",
    "\n",
    "def say_hello(name):\n",
    "    print(f\"hello, {name}!\")\n",
    "\n",
    "\n",
    "say_hello(name=\"anna\") "
   ]
  },
  {
   "cell_type": "code",
   "execution_count": null,
   "id": "0a54e9d6-73b3-4673-8af5-007ba99aa56f",
   "metadata": {},
   "outputs": [],
   "source": [
    "def di"
   ]
  }
 ],
 "metadata": {
  "kernelspec": {
   "display_name": "Python [conda env:base] *",
   "language": "python",
   "name": "conda-base-py"
  },
  "language_info": {
   "codemirror_mode": {
    "name": "ipython",
    "version": 3
   },
   "file_extension": ".py",
   "mimetype": "text/x-python",
   "name": "python",
   "nbconvert_exporter": "python",
   "pygments_lexer": "ipython3",
   "version": "3.12.7"
  }
 },
 "nbformat": 4,
 "nbformat_minor": 5
}
