{
 "cells": [
  {
   "cell_type": "code",
   "execution_count": 28,
   "id": "70755e82-6e3d-4dd5-94b2-8db733798077",
   "metadata": {},
   "outputs": [
    {
     "name": "stdout",
     "output_type": "stream",
     "text": [
      "{'anton': 24, 'adam': 30, 'anna': 27}\n",
      "27\n"
     ]
    }
   ],
   "source": [
    "# dictionaries\n",
    "\n",
    "friends_ages = {\"anton\" : 24, \n",
    "                \"adam\" : 30,\n",
    "                \"anna\" : 27}\n",
    "\n",
    "\n",
    "print(friends_ages)\n",
    "print(friends_ages[\"anna\"])"
   ]
  },
  {
   "cell_type": "code",
   "execution_count": 30,
   "id": "13b7cc89-775b-4ea5-8dda-eb1a8d0d1b41",
   "metadata": {},
   "outputs": [
    {
     "name": "stdout",
     "output_type": "stream",
     "text": [
      "[{'name': 'Rod Smith', 'age': 24}, {'name': 'Adam Bool', 'age': 30}, {'name': 'Anne Bun', 'age': 27}]\n"
     ]
    }
   ],
   "source": [
    "# list of dictionaries\n",
    "\n",
    "friends = [\n",
    "    {\"name\": \"Rod Smith\", \"age\": 24},\n",
    "    {\"name\": \"Adam Bool\", \"age\": 30},\n",
    "    {\"name\": \"Anne Bun\", \"age\": 27},\n",
    "]\n",
    "\n",
    "\n",
    "print(friends)"
   ]
  },
  {
   "cell_type": "code",
   "execution_count": 34,
   "id": "12062657-6016-4b2a-88fb-cb1c6e776d9e",
   "metadata": {},
   "outputs": [
    {
     "name": "stdout",
     "output_type": "stream",
     "text": [
      "anton : 96\n",
      "adam : 80\n",
      "anna : 99\n"
     ]
    }
   ],
   "source": [
    "# Iteration\n",
    "\n",
    "student_attendance = {\"anton\": 96, \"adam\" : 80, \"anna\" : 99}\n",
    "\n",
    "for student in student_attendance:\n",
    "    print(f\"{student} : {student_attendance[student]}\")"
   ]
  },
  {
   "cell_type": "code",
   "execution_count": 36,
   "id": "33414af0-98e9-4005-912a-124e86777037",
   "metadata": {},
   "outputs": [
    {
     "name": "stdout",
     "output_type": "stream",
     "text": [
      "anton : 96\n",
      "adam : 80\n",
      "anna : 99\n"
     ]
    }
   ],
   "source": [
    "# better approach\n",
    "\n",
    "for student, attendance in student_attendance.items():\n",
    "    print(f\"{student} : {attendance}\")\n",
    "    "
   ]
  },
  {
   "cell_type": "code",
   "execution_count": null,
   "id": "6072007e-bf67-4068-a124-c6db8bdcf49d",
   "metadata": {},
   "outputs": [],
   "source": [
    "# using the "
   ]
  }
 ],
 "metadata": {
  "kernelspec": {
   "display_name": "Python [conda env:base] *",
   "language": "python",
   "name": "conda-base-py"
  },
  "language_info": {
   "codemirror_mode": {
    "name": "ipython",
    "version": 3
   },
   "file_extension": ".py",
   "mimetype": "text/x-python",
   "name": "python",
   "nbconvert_exporter": "python",
   "pygments_lexer": "ipython3",
   "version": "3.12.7"
  }
 },
 "nbformat": 4,
 "nbformat_minor": 5
}
