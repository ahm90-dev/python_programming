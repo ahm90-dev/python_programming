{
 "cells": [
  {
   "cell_type": "code",
   "execution_count": 1,
   "id": "5024a59b-34d2-43ff-ab9c-19a4ed40f06e",
   "metadata": {},
   "outputs": [
    {
     "name": "stdout",
     "output_type": "stream",
     "text": [
      "Hello\n"
     ]
    }
   ],
   "source": [
    "# function\n",
    "\n",
    "def hello():\n",
    "    print(\"Hello\")\n",
    "\n",
    "hello()\n"
   ]
  },
  {
   "cell_type": "code",
   "execution_count": 3,
   "id": "f32e1b3d-37ad-428e-bc92-6313ab90e80d",
   "metadata": {},
   "outputs": [
    {
     "name": "stdout",
     "output_type": "stream",
     "text": [
      "Welcome to the age in seconds program!\n"
     ]
    },
    {
     "name": "stdin",
     "output_type": "stream",
     "text": [
      "Enter your age:  34\n"
     ]
    },
    {
     "name": "stdout",
     "output_type": "stream",
     "text": [
      "Your age in seconds is 1072224000.\n",
      "Goodbye!\n"
     ]
    }
   ],
   "source": [
    "# defining vs calling\n",
    "# It's still all sequential\n",
    "\n",
    "def user_age_in_seconds():\n",
    "    user_age = int(input(\"Enter your age: \"))\n",
    "    age_seconds = user_age * 365 * 24 * 60 * 60\n",
    "    print(f\"Your age in seconds is {age_seconds}.\")\n",
    "\n",
    "\n",
    "print(\"Welcome to the age in seconds program!\")\n",
    "user_age_in_seconds()\n",
    "\n",
    "print(\"Goodbye!\")\n"
   ]
  },
  {
   "cell_type": "code",
   "execution_count": 11,
   "id": "46bc7087-a356-4cfd-ba52-e5fc29d7297f",
   "metadata": {},
   "outputs": [
    {
     "name": "stdout",
     "output_type": "stream",
     "text": [
      "['Rolf', 'Bob']\n"
     ]
    }
   ],
   "source": [
    "# Dont reuse variable names, its generally confusing!\n",
    "\n",
    "friends = [\"Rolf\", \"Bob\"]\n",
    "\n",
    "\n",
    "def add_friend():\n",
    "    friend_name = input(\"Enter your friend name: \")\n",
    "    friends = friends + [friend_name]  # Another way of adding to a list!\n",
    "\n",
    "# add_friend() # throws an error\n",
    "print(friends)\n",
    "\n",
    "# UnboundLocalError: cannot access local variable 'friends' where it is not associated with a value"
   ]
  },
  {
   "cell_type": "code",
   "execution_count": 13,
   "id": "37e0bc6a-2f0c-40fa-97e4-03d696243494",
   "metadata": {},
   "outputs": [
    {
     "ename": "NameError",
     "evalue": "name 'say_hello' is not defined",
     "output_type": "error",
     "traceback": [
      "\u001b[1;31m---------------------------------------------------------------------------\u001b[0m",
      "\u001b[1;31mNameError\u001b[0m                                 Traceback (most recent call last)",
      "Cell \u001b[1;32mIn[13], line 3\u001b[0m\n\u001b[0;32m      1\u001b[0m \u001b[38;5;66;03m# can't call a function before defining it\u001b[39;00m\n\u001b[1;32m----> 3\u001b[0m say_hello()\n\u001b[0;32m      6\u001b[0m \u001b[38;5;28;01mdef\u001b[39;00m \u001b[38;5;21msay_hello\u001b[39m():\n\u001b[0;32m      7\u001b[0m     \u001b[38;5;28mprint\u001b[39m(\u001b[38;5;124m\"\u001b[39m\u001b[38;5;124mHello\u001b[39m\u001b[38;5;124m\"\u001b[39m)\n",
      "\u001b[1;31mNameError\u001b[0m: name 'say_hello' is not defined"
     ]
    }
   ],
   "source": [
    "# can't call a function before defining it\n",
    "\n",
    "say_hello()\n",
    "\n",
    "\n",
    "def say_hello():\n",
    "    print(\"Hello\")\n"
   ]
  },
  {
   "cell_type": "code",
   "execution_count": 15,
   "id": "77920101-1c60-4adc-89ca-bd8ff8ad5693",
   "metadata": {},
   "outputs": [
    {
     "name": "stdout",
     "output_type": "stream",
     "text": [
      "['Rolf']\n"
     ]
    }
   ],
   "source": [
    "# function body only runs when the function is called\n",
    "\n",
    "def add_friend():\n",
    "    friends.append(\"Rolf\")\n",
    "\n",
    "\n",
    "friends = []\n",
    "add_friend()\n",
    "\n",
    "print(friends) "
   ]
  },
  {
   "cell_type": "code",
   "execution_count": null,
   "id": "4b7a9141-3c24-4643-87f9-3bba9e8567a2",
   "metadata": {},
   "outputs": [],
   "source": []
  }
 ],
 "metadata": {
  "kernelspec": {
   "display_name": "Python [conda env:base] *",
   "language": "python",
   "name": "conda-base-py"
  },
  "language_info": {
   "codemirror_mode": {
    "name": "ipython",
    "version": 3
   },
   "file_extension": ".py",
   "mimetype": "text/x-python",
   "name": "python",
   "nbconvert_exporter": "python",
   "pygments_lexer": "ipython3",
   "version": "3.12.7"
  }
 },
 "nbformat": 4,
 "nbformat_minor": 5
}
